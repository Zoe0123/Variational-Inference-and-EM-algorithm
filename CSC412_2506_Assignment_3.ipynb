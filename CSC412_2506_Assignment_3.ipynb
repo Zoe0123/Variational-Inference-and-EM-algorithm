{
  "nbformat": 4,
  "nbformat_minor": 0,
  "metadata": {
    "colab": {
      "name": "CSC412_2506 - Assignment 3.ipynb",
      "provenance": [],
      "collapsed_sections": [],
      "toc_visible": true
    },
    "kernelspec": {
      "name": "python3",
      "display_name": "Python 3"
    },
    "language_info": {
      "name": "python"
    },
    "accelerator": "GPU"
  },
  "cells": [
    {
      "cell_type": "markdown",
      "source": [
        "# CSC412/2506 (Winter 2022) Probabilistic ML: Homework 3\n",
        "\n",
        "- **Deadline**: 03/22 23:59\n",
        "- **Submission**: You need to submit your solutions through Crowdmark, including all your derivations, plots, and your code. You can produce the files however you like (e.g. $\\LaTeX$, Microsoft Word, etc), as long as it is readable. Points will be deducted if we have a hard time reading your solutions or understanding the structure of your code.\n",
        "- **Collaboration policy**: After attempting the problems on an individual basis, you may discuss and work together on the assignment with up to two classmates. However, **you must write your own code and write up your own solutions individually and explicitly name any collaborators** at the top of the homework."
      ],
      "metadata": {
        "id": "ml0MN3ic5HxA"
      }
    },
    {
      "cell_type": "markdown",
      "source": [
        "## Your Info\n",
        "\n",
        "- **Name:**\n",
        "- **Student Number:**\n",
        "- **Collaborators:**"
      ],
      "metadata": {
        "id": "zpoL7G6G5QEG"
      }
    },
    {
      "cell_type": "markdown",
      "metadata": {
        "id": "t1RKToQQcX2Q"
      },
      "source": [
        "# 1. [50pts] Stochastic Variational Inference in the TrueSkill Model\n",
        "\n",
        "## Background\n",
        "\n",
        "We'll continue working with [TrueSkill](http://papers.nips.cc/paper/3079-trueskilltm-a-bayesian-skill-rating-system.pdf) model, a player ranking system for competitive games originally developed for Halo 2. Recall the model:\n",
        "\n",
        "\n",
        "## Model definition\n",
        "\n",
        "We assume that each player has a true, but unknown skill $z_i \\in \\mathbb{R}$.\n",
        "We use $N$ to denote the number of players.\n",
        "\n",
        "### The prior:\n",
        "The prior over each player's skill is a standard normal distribution, and all player's skills are *a priori* independent.\n",
        "\n",
        "### The likelihood:\n",
        "For each observed game, the probability that player $i$ beats player $j$, given the player's skills $z_A$ and $z_B$, is:\n",
        "$$p(A \\,\\, \\text{beat} \\,\\, B | z_A, z_B) = \\sigma(z_i - z_j)$$\n",
        "where\n",
        "$$\\sigma(y) = \\frac{1}{1 + \\exp(-y)}$$\n",
        "We chose this function simply because it's close to zero or one when the player's skills are very different, and equals one-half when the player skills are the same.  This likelihood function is the only thing that gives meaning to the latent skill variables $z_1 \\dots z_N$.\n",
        "\n",
        "There can be more than one game played between a pair of players. The outcome of each game is independent given the players' skills.\n",
        "We use $M$ to denote the number of games.\n"
      ]
    },
    {
      "cell_type": "code",
      "execution_count": null,
      "metadata": {
        "id": "n6euHm_h4Voi",
        "colab": {
          "base_uri": "https://localhost:8080/"
        },
        "outputId": "8c7998cc-1bd0-41ab-e70f-b7ff008228c0"
      },
      "outputs": [
        {
          "output_type": "stream",
          "name": "stdout",
          "text": [
            "Collecting wget\n",
            "  Downloading wget-3.2.zip (10 kB)\n",
            "Building wheels for collected packages: wget\n",
            "  Building wheel for wget (setup.py) ... \u001b[?25l\u001b[?25hdone\n",
            "  Created wheel for wget: filename=wget-3.2-py3-none-any.whl size=9675 sha256=931d82b4c4da6f15065f8db5b6ae86f65f3520d7374c972d88345228d5bd41a0\n",
            "  Stored in directory: /root/.cache/pip/wheels/a1/b6/7c/0e63e34eb06634181c63adacca38b79ff8f35c37e3c13e3c02\n",
            "Successfully built wget\n",
            "Installing collected packages: wget\n",
            "Successfully installed wget-3.2\n"
          ]
        }
      ],
      "source": [
        "!pip install wget\n",
        "import os\n",
        "import os.path\n",
        "import matplotlib.pyplot as plt\n",
        "import wget\n",
        "import jax\n",
        "import jax.numpy as np\n",
        "import scipy.io\n",
        "import scipy.stats\n",
        "import matplotlib.pyplot as plt\n",
        "\n",
        "from jax import jit, grad\n",
        "# from jax.ops import index_update\n",
        "from jax.random import PRNGKey, normal, split, uniform\n",
        "from jax.scipy.stats import norm\n",
        "from jax import random, vmap\n",
        "from jax.example_libraries import optimizers\n",
        "from tqdm import trange, tqdm_notebook\n",
        "from functools import partial"
      ]
    },
    {
      "cell_type": "markdown",
      "metadata": {
        "id": "-bf1iLXTkXd5"
      },
      "source": [
        "# 1.1 [0pts] Implementing the TrueSkill Model\n",
        "\n"
      ]
    },
    {
      "cell_type": "markdown",
      "metadata": {
        "id": "A62Y2IWg39ix"
      },
      "source": [
        "This part was mostly done in Assignment 2. We will recall some useful functions.\n",
        "\n",
        "**a)** The function $\\texttt{log_joint_prior}$ computes the log of the prior, jointly evaluated over all player's skills."
      ]
    },
    {
      "cell_type": "code",
      "execution_count": null,
      "metadata": {
        "id": "PDmHDiac4Rpr"
      },
      "outputs": [],
      "source": [
        "def log_joint_prior(zs_array):\n",
        "    return np.sum(norm.logpdf(zs_array, 0.0, 1.0), axis=-1)"
      ]
    },
    {
      "cell_type": "markdown",
      "metadata": {
        "id": "AAbAgxMl4X2q"
      },
      "source": [
        "**b)** The function `logp_a_beats_b` that, given a pair of skills $z_a$ and $z_b$, evaluates the log-likelihood that player with skill $z_a$ beat player with skill $z_b$ under the model detailed above.\n",
        "\n",
        "To ensure numerical stability, we use the function `np.log1p` that computes $\\log(1 + x)$ in a numerically stable way.  Or even better, use `np.logaddexp`."
      ]
    },
    {
      "cell_type": "code",
      "execution_count": null,
      "metadata": {
        "id": "V7nUXkYl_f4T"
      },
      "outputs": [],
      "source": [
        "def logp_a_beats_b(z_a, z_b):\n",
        "    return -np.logaddexp(0.0, z_b - z_a)\n",
        "\n",
        "def log_prior_over_2_players(z1, z2):\n",
        "    return norm.logpdf(z1, 0.0, 1.0) + norm.logpdf(z2, 0.0, 1.0)\n",
        "\n",
        "def prior_over_2_players(z1, z2):\n",
        "    return np.exp(log_prior_over_2_players(z1, z2))\n",
        "\n",
        "def log_posterior_A_beat_B(z1, z2):\n",
        "    return log_prior_over_2_players(z1, z2) + logp_a_beats_b(z1, z2)\n",
        "\n",
        "def posterior_A_beat_B(z1, z2):\n",
        "    return np.exp(log_posterior_A_beat_B(z1, z2))\n",
        "\n",
        "def log_posterior_A_beat_B_10_times(z1, z2):\n",
        "    return log_prior_over_2_players(z1, z2) + 10.0 * logp_a_beats_b(z1, z2)\n",
        "\n",
        "def posterior_A_beat_B_10_times(z1, z2):\n",
        "    return np.exp(log_posterior_A_beat_B_10_times(z1, z2))\n",
        "\n",
        "def log_posterior_beat_each_other_10_times(z1, z2):\n",
        "    return log_prior_over_2_players(z1, z2) \\\n",
        "        + 10.* logp_a_beats_b(z1, z2) \\\n",
        "        + 10.* logp_a_beats_b(z2, z1)\n",
        "\n",
        "def posterior_beat_each_other_10_times(z1, z2):\n",
        "    return np.exp(log_posterior_beat_each_other_10_times(z1, z2))"
      ]
    },
    {
      "cell_type": "markdown",
      "source": [
        "The following functions will be used for plotting.  Note that `plot_2d_fun` can now take an optional second function, so you can compare two functions."
      ],
      "metadata": {
        "id": "hA77ZVR5SgGs"
      }
    },
    {
      "cell_type": "code",
      "execution_count": null,
      "metadata": {
        "id": "at7JEyWs_QRK"
      },
      "outputs": [],
      "source": [
        "# Plotting helper functions for free\n",
        "def plot_isocontours(ax, func, xlimits=[-3, 3], ylimits=[-3, 3], numticks=101, cmap=\"summer\"):\n",
        "    x = np.linspace(*xlimits, num=numticks)\n",
        "    y = np.linspace(*ylimits, num=numticks)\n",
        "    X, Y = np.meshgrid(x, y)\n",
        "    zs = func(X.ravel(), Y.ravel())\n",
        "    Z = zs.reshape(X.shape)\n",
        "    plt.contour(X, Y, Z, cmap=cmap)\n",
        "    ax.set_yticks([])\n",
        "    ax.set_xticks([])\n",
        "\n",
        "def plot_2d_fun(f, x_axis_label=\"\", y_axis_label=\"\", f2=None, scatter_pts=None):\n",
        "    # This is the function your code should call.\n",
        "    # f() should take two arguments.\n",
        "    fig = plt.figure(figsize=(8,8), facecolor='white')\n",
        "    ax = fig.add_subplot(111, frameon=False)\n",
        "    ax.set_xlabel(x_axis_label)\n",
        "    ax.set_ylabel(y_axis_label)\n",
        "    plot_isocontours(ax, f)\n",
        "    if f2 is not None:\n",
        "      plot_isocontours(ax, f2, cmap='winter')\n",
        "\n",
        "    if scatter_pts is not None:\n",
        "      plt.scatter(scatter_pts[:,0], scatter_pts[:, 1])\n",
        "    plt.plot([3, -3], [3, -3], 'b--')   # Line of equal skill\n",
        "    plt.show(block=True)\n",
        "    plt.draw()    "
      ]
    },
    {
      "cell_type": "markdown",
      "metadata": {
        "id": "nm-SM6Fc4yz8"
      },
      "source": [
        "## **1.2 [25pts]** Stochastic Variational Inference on Two Players and Toy Data\n",
        "\n",
        "One nice thing about a Bayesian approach is that it separates the model specification from the approximate inference strategy.\n",
        "The original Trueskill paper from 2007 used message passing.\n",
        "\n",
        "In this question we will  approximate posterior distributions with gradient-based stochastic variational inference.\n",
        "\n",
        "The parameters are $\\phi = (\\mu,\\log(\\sigma))$. Notice that instead of $\\sigma$ (which is constrained to be positive), we work with $\\log(\\sigma)$, removing the constraint. This way, we can do unconstrained gradient-based optimization.\n",
        "\n"
      ]
    },
    {
      "cell_type": "markdown",
      "metadata": {
        "id": "K-ri8HRQ461m"
      },
      "source": [
        "**a) [15pts]** Implement the missing lines in the below code, to complete the evidence lower bound function and the reparameterized sampler for the approximate posterior.\n",
        "\n",
        "Hint 1: You must use the reparametrization trick in your sampler if you want your gradients to be unbiased.\n",
        "\n",
        "Hint 2: Instead of including batch dimensions, you can simply use the `vmap` higher-order function, which takes in a function and returns another one that broadcasts the first function along a new axis.\n",
        "\n",
        "Hint 3: If you're worried you got these wrong, you can check that the sampler matches the log pdf by plotting a histogram of samples against a plot of the pdf."
      ]
    },
    {
      "cell_type": "code",
      "execution_count": null,
      "metadata": {
        "id": "kZlCOViq5Ahf"
      },
      "outputs": [],
      "source": [
        "def diag_gaussian_sample(rng, mean, log_std):\n",
        "  # Take a single sample from a diagonal multivariate Gaussian.\n",
        "  return random.normal(rng, shape=mean.shape) * np.exp(log_std) + mean\n",
        "  # You might want to use random.normal(), but remember\n",
        "  # you must use the reparameterization trick.  Also remember that\n",
        "  # we are parameterizing the _log_ of the standard deviation.\n",
        "\n",
        "def diag_gaussian_logpdf(x, mean, log_std):\n",
        "  # Evaluate the density of single point on a diagonal multivariate Gaussian.\n",
        "  return np.sum(norm.logpdf(x, mean, np.exp(log_std)), axis=-1)\n",
        "\n",
        "def elbo(logprob, rng, mean, log_std):\n",
        "  # Single-sample Monte Carlo estimate of the variational lower bound.\n",
        "  sampled_zs = diag_gaussian_sample(rng, mean, log_std)\n",
        "  return logprob(sampled_zs) - diag_gaussian_logpdf(sampled_zs, mean, log_std)\n",
        "\n",
        "def batch_elbo(logprob, rng, params, num_samples):\n",
        "  # Average over a batch of random samples. \n",
        "  rngs = random.split(rng, num_samples)\n",
        "  vectorized_elbo = vmap(partial(elbo, logprob), in_axes=(0, None, None))\n",
        "  elbo_estimates = vectorized_elbo(rngs, *params)\n",
        "  return np.mean(elbo_estimates, axis=0)\n",
        "  # Use simple Monte Carlo to combine your estimates\n",
        "  "
      ]
    },
    {
      "cell_type": "markdown",
      "metadata": {
        "id": "lfAD3ffb5CD9"
      },
      "source": [
        "\n",
        "**b) [4pts]** Write a loss function called $\\texttt{objective}$  that takes variational distribution parameters and an array of game outcomes, and returns an unbiased estimate of the negative elbo using $\\texttt{num_samples_per_iter}$ samples, to approximate the joint posterior over skills conditioned on observing player A winning 10 games.\n",
        "\n",
        "Note: We want a _negative_ ELBO estimate, because the convention in optimization is to minimize functions, and we want to maximize the ELBO."
      ]
    },
    {
      "cell_type": "code",
      "source": [
        "# Hyperparameters\n",
        "num_players = 2\n",
        "n_iters = 800\n",
        "stepsize = 0.0001\n",
        "num_samples_per_iter = 50\n",
        "key = PRNGKey(0)\n",
        "\n",
        "def log_posterior_A_beat_B_10_times_1_arg(z1z2):\n",
        "  return log_posterior_A_beat_B_10_times(z1z2[0], z1z2[1])\n",
        "\n",
        "def objective(params, t):  # The loss function to be minimized.\n",
        "  rng = random.PRNGKey(t)\n",
        "  return -batch_elbo(log_posterior_A_beat_B_10_times_1_arg, rng, params, num_samples_per_iter)\n",
        "  # Hint:  This can be done in one line."
      ],
      "metadata": {
        "id": "j-Qt2vqvKgAN"
      },
      "execution_count": null,
      "outputs": []
    },
    {
      "cell_type": "markdown",
      "source": [
        "**c) [1pts]** Initialize a set of variational parameters and optimize them to approximate the joint where we observe player A winning 10 games. Report the final loss. Also plot the optimized variational approximation contours and the target distribution on the same axes.\n",
        "\n",
        "Hint:  Any initialization should be fine.  How many variational parameters do you need?"
      ],
      "metadata": {
        "id": "ixGDUDjwKnWd"
      }
    },
    {
      "cell_type": "code",
      "execution_count": null,
      "metadata": {
        "id": "biW5JiZq5EXc",
        "colab": {
          "base_uri": "https://localhost:8080/",
          "height": 1000
        },
        "outputId": "491bab15-88e8-45d9-dd41-e793669a8bf2"
      },
      "outputs": [
        {
          "output_type": "stream",
          "name": "stdout",
          "text": [
            "Optimizing variational parameters...\n"
          ]
        },
        {
          "output_type": "stream",
          "name": "stderr",
          "text": [
            "  3%|▎         | 26/800 [00:05<01:56,  6.66it/s] "
          ]
        },
        {
          "output_type": "stream",
          "name": "stdout",
          "text": [
            "Iteration 0 lower bound 4.530764102935791\n",
            "Iteration 25 lower bound 8.14537525177002\n",
            "Iteration 50 lower bound 3.396458625793457\n"
          ]
        },
        {
          "output_type": "stream",
          "name": "stderr",
          "text": [
            " 16%|█▌        | 126/800 [00:05<00:14, 45.63it/s]"
          ]
        },
        {
          "output_type": "stream",
          "name": "stdout",
          "text": [
            "Iteration 75 lower bound 3.1385209560394287\n",
            "Iteration 100 lower bound 2.922302722930908\n",
            "Iteration 125 lower bound 3.0605359077453613\n"
          ]
        },
        {
          "output_type": "stream",
          "name": "stderr",
          "text": [
            "\r 22%|██▏       | 176/800 [00:05<00:08, 72.36it/s]"
          ]
        },
        {
          "output_type": "stream",
          "name": "stdout",
          "text": [
            "Iteration 150 lower bound 2.961040496826172\n",
            "Iteration 175 lower bound 2.931621551513672\n",
            "Iteration 200 lower bound 2.929612398147583\n"
          ]
        },
        {
          "output_type": "stream",
          "name": "stderr",
          "text": [
            " 34%|███▍      | 276/800 [00:06<00:03, 137.74it/s]"
          ]
        },
        {
          "output_type": "stream",
          "name": "stdout",
          "text": [
            "Iteration 225 lower bound 3.0404036045074463\n",
            "Iteration 250 lower bound 2.908095121383667\n",
            "Iteration 275 lower bound 3.02541184425354\n"
          ]
        },
        {
          "output_type": "stream",
          "name": "stderr",
          "text": [
            "\r 41%|████      | 326/800 [00:06<00:02, 170.80it/s]"
          ]
        },
        {
          "output_type": "stream",
          "name": "stdout",
          "text": [
            "Iteration 300 lower bound 2.933720111846924\n",
            "Iteration 325 lower bound 2.9159774780273438\n",
            "Iteration 350 lower bound 3.0472412109375\n"
          ]
        },
        {
          "output_type": "stream",
          "name": "stderr",
          "text": [
            " 51%|█████     | 409/800 [00:06<00:01, 205.28it/s]"
          ]
        },
        {
          "output_type": "stream",
          "name": "stdout",
          "text": [
            "Iteration 375 lower bound 3.024594306945801\n",
            "Iteration 400 lower bound 2.90017032623291\n"
          ]
        },
        {
          "output_type": "stream",
          "name": "stderr",
          "text": [
            " 60%|█████▉    | 476/800 [00:06<00:01, 234.85it/s]"
          ]
        },
        {
          "output_type": "stream",
          "name": "stdout",
          "text": [
            "Iteration 425 lower bound 3.0051774978637695\n",
            "Iteration 450 lower bound 2.9029064178466797\n",
            "Iteration 475 lower bound 3.0870471000671387\n"
          ]
        },
        {
          "output_type": "stream",
          "name": "stderr",
          "text": [
            " 70%|██████▉   | 557/800 [00:07<00:00, 265.77it/s]"
          ]
        },
        {
          "output_type": "stream",
          "name": "stdout",
          "text": [
            "Iteration 500 lower bound 2.9341259002685547\n",
            "Iteration 525 lower bound 2.8127903938293457\n",
            "Iteration 550 lower bound 3.142521381378174\n"
          ]
        },
        {
          "output_type": "stream",
          "name": "stderr",
          "text": [
            " 78%|███████▊  | 626/800 [00:07<00:00, 257.49it/s]"
          ]
        },
        {
          "output_type": "stream",
          "name": "stdout",
          "text": [
            "Iteration 575 lower bound 3.099686861038208\n",
            "Iteration 600 lower bound 2.7920753955841064\n",
            "Iteration 625 lower bound 2.9612951278686523\n"
          ]
        },
        {
          "output_type": "stream",
          "name": "stderr",
          "text": [
            "\r 84%|████████▍ | 676/800 [00:07<00:00, 282.48it/s]"
          ]
        },
        {
          "output_type": "stream",
          "name": "stdout",
          "text": [
            "Iteration 650 lower bound 3.0898993015289307\n",
            "Iteration 675 lower bound 2.9484963417053223\n",
            "Iteration 700 lower bound 2.8852996826171875\n"
          ]
        },
        {
          "output_type": "stream",
          "name": "stderr",
          "text": [
            "100%|██████████| 800/800 [00:07<00:00, 100.70it/s]"
          ]
        },
        {
          "output_type": "stream",
          "name": "stdout",
          "text": [
            "Iteration 725 lower bound 2.948615074157715\n",
            "Iteration 750 lower bound 2.867049217224121\n",
            "Iteration 775 lower bound 2.976224184036255\n"
          ]
        },
        {
          "output_type": "stream",
          "name": "stderr",
          "text": [
            "\n"
          ]
        },
        {
          "output_type": "display_data",
          "data": {
            "text/plain": [
              "<Figure size 576x576 with 1 Axes>"
            ],
            "image/png": "[encoded data removed]"
          },
          "metadata": {}
        },
        {
          "output_type": "display_data",
          "data": {
            "text/plain": [
              "<Figure size 432x288 with 0 Axes>"
            ]
          },
          "metadata": {}
        }
      ],
      "source": [
        "def callback(params, t):\n",
        "  if t % 25 == 0:\n",
        "    print(\"Iteration {} lower bound {}\".format(t, objective(params, t)))\n",
        "\n",
        "# Set up optimizer.\n",
        "D = 2\n",
        "init_mean     = np.zeros(D)\n",
        "init_log_std  = np.ones(D) \n",
        "init_params = (init_mean, init_log_std)\n",
        "opt_init, opt_update, get_params = optimizers.momentum(step_size=0.1, mass=0.9)\n",
        "opt_state = opt_init(init_params)\n",
        "\n",
        "@jit\n",
        "def update(i, opt_state):\n",
        "    params = get_params(opt_state) \n",
        "    gradient = grad(objective)(params, i)\n",
        "    return opt_update(i, gradient, opt_state)\n",
        "\n",
        "# Main loop.\n",
        "print(\"Optimizing variational parameters...\")\n",
        "for t in trange(0, n_iters):\n",
        "    opt_state = update(t, opt_state)\n",
        "    params = get_params(opt_state)\n",
        "    callback(params, t)\n",
        "\n",
        "\n",
        "def approx_posterior_2d(z1, z2):\n",
        "    # The approximate posterior\n",
        "    mean, logstd = params\n",
        "    return np.exp(diag_gaussian_logpdf(np.array([z1, z2]), mean, logstd))\n",
        "\n",
        "approx_posterior_2d_batched = vmap(approx_posterior_2d, in_axes=(0, 0))\n",
        "\n",
        "plot_2d_fun(posterior_A_beat_B_10_times, \"Player A Skill\", \"Player B Skill\",\n",
        "            f2=approx_posterior_2d_batched)"
      ]
    },
    {
      "cell_type": "markdown",
      "metadata": {
        "id": "sCmqGbeK5iAf"
      },
      "source": [
        "**d) [3pt]** Write a loss function called $\\texttt{objective}$  that takes variational distribution parameters and an array of game outcomes, and returns a negative elbo estimate using simple Monte carlo with $\\texttt{num_samples_per_iter}$ samples, to approximate the joint where we observe player A winning 10 games and player B winning 10 games.\n",
        "\n",
        "Hint:  You can find analogous functions in the code above.\n"
      ]
    },
    {
      "cell_type": "code",
      "source": [
        "# Hyperparameters\n",
        "n_iters = 100\n",
        "stepsize = 0.0001\n",
        "num_samples_per_iter = 50\n",
        "key = PRNGKey(0)\n",
        "\n",
        "def log_posterior_beat_each_other_10_times_1_arg(z1z2):\n",
        "  return log_posterior_beat_each_other_10_times(z1z2[0], z1z2[1])\n",
        "\n",
        "def objective(params, t):\n",
        "  rng = random.PRNGKey(t)\n",
        "  return -batch_elbo(log_posterior_beat_each_other_10_times_1_arg, rng, params, num_samples_per_iter)"
      ],
      "metadata": {
        "id": "5Zz6DkOacXDC"
      },
      "execution_count": null,
      "outputs": []
    },
    {
      "cell_type": "markdown",
      "source": [
        "**e) [2pt]** Run the code below to optimize, and report the final loss. Also plot the optimized variational approximation contours and the target distribution on the same axes.\n",
        "\n",
        "Write one or two sentences describing the joint settings of skills that are plausible under the true posterior, but which are not plausible under the approximate posterior.\n",
        "\n",
        "Finally, answer with one or two sentences:  Would changing the variational approximate posterior from a fully-factorized (diagonal covariance) Gaussian to a non-factorized (fully parameterized covariance) Gaussian make a better approximation in this instance?"
      ],
      "metadata": {
        "id": "_V42MMIscvMs"
      }
    },
    {
      "cell_type": "code",
      "execution_count": null,
      "metadata": {
        "id": "ksjggALU5gWx",
        "colab": {
          "base_uri": "https://localhost:8080/",
          "height": 599
        },
        "outputId": "48ab53a9-5bac-4966-909f-e73774d21cda"
      },
      "outputs": [
        {
          "output_type": "stream",
          "name": "stdout",
          "text": [
            "Optimizing variational parameters...\n"
          ]
        },
        {
          "output_type": "stream",
          "name": "stderr",
          "text": [
            "  1%|          | 1/100 [00:02<03:56,  2.39s/it]"
          ]
        },
        {
          "output_type": "stream",
          "name": "stdout",
          "text": [
            "Iteration 0 lower bound 17.624523162841797\n",
            "Iteration 25 lower bound 15.784347534179688\n"
          ]
        },
        {
          "output_type": "stream",
          "name": "stderr",
          "text": [
            "100%|██████████| 100/100 [00:02<00:00, 36.04it/s]"
          ]
        },
        {
          "output_type": "stream",
          "name": "stdout",
          "text": [
            "Iteration 50 lower bound 15.823676109313965\n",
            "Iteration 75 lower bound 15.860443115234375\n"
          ]
        },
        {
          "output_type": "stream",
          "name": "stderr",
          "text": [
            "\n"
          ]
        },
        {
          "output_type": "display_data",
          "data": {
            "text/plain": [
              "<Figure size 576x576 with 1 Axes>"
            ],
            "image/png": "[encoded data removed]"
          },
          "metadata": {}
        },
        {
          "output_type": "display_data",
          "data": {
            "text/plain": [
              "<Figure size 432x288 with 0 Axes>"
            ]
          },
          "metadata": {}
        }
      ],
      "source": [
        "@jit\n",
        "def update(i, opt_state):\n",
        "    params = get_params(opt_state)\n",
        "    gradient = grad(objective)(params, i)\n",
        "    return opt_update(i, gradient, opt_state)\n",
        "\n",
        "# Main loop.\n",
        "print(\"Optimizing variational parameters...\")\n",
        "for t in trange(0, n_iters):\n",
        "    opt_state = update(t, opt_state)\n",
        "    params = get_params(opt_state)\n",
        "    callback(params, t)\n",
        "\n",
        "def approx_posterior_2d(z1, z2):\n",
        "    mean, logstd = params\n",
        "    return np.exp(diag_gaussian_logpdf(np.array([z1, z2]), mean, logstd))\n",
        "\n",
        "approx_posterior_2d_batched = vmap(approx_posterior_2d, in_axes=(0, 0))\n",
        "\n",
        "plot_2d_fun(posterior_beat_each_other_10_times, \"Player A Skill\", \"Player B Skill\",\n",
        "            f2=approx_posterior_2d_batched)\n"
      ]
    },
    {
      "cell_type": "markdown",
      "source": [
        "Answer: \n",
        "\n",
        "Under the true posterior, it is plausible that both Player A and B skills are bad, or very good. However, under the approximate posterior, this is not plausible, since the estimated A and B skills are both close to a middle range of values, according to its circle-shaped contours.\n",
        "\n",
        "In this instance, changing the variational approximate posterior from a fully-factorized Gaussian to a non-factorized Gaussian makes a better approximation, since the correlation between the player A and player B skills will also be estimated in a non-factorized Gaussian approximation. For example in this case, since they beat each other 10 times, then it is plausbile that if A has bad skill then B is also likely to be bad, otherwise B is also likely to be good, therefore a non-factorized Gaussian may be a better approximation. "
      ],
      "metadata": {
        "id": "cZ5_JHPXENWH"
      }
    },
    {
      "cell_type": "markdown",
      "metadata": {
        "id": "rrCmtd_b51Jf"
      },
      "source": [
        "## 1.3 [25pts] Approximate inference conditioned on real data\n",
        "\n",
        "The dataset from $\\texttt{tennis_data.mat}$ contains data on 1801 tennis games amongst 107 players:\n",
        " - W is a 107 by 1 matrix, whose $i$’th entry is the name of player $i$.\n",
        " - G is a 1801 by 2 matrix of game outcomes (actually tennis matches), one row per game.\n",
        "\n",
        "The first column contains the indices of the players who won.\n",
        "The second column contains the indices of the player who lost.\n",
        "\n",
        "\n",
        "\n"
      ]
    },
    {
      "cell_type": "code",
      "execution_count": null,
      "metadata": {
        "id": "9Dbf_GOZ7ejb",
        "colab": {
          "base_uri": "https://localhost:8080/"
        },
        "outputId": "6c0c6733-5cdd-4f76-c230-156ced6e0259"
      },
      "outputs": [
        {
          "output_type": "stream",
          "name": "stdout",
          "text": [
            "[0 1]\n",
            "[array(['Rafael-Nadal'], dtype='<U12')]\n"
          ]
        }
      ],
      "source": [
        "wget.download(\"https://probmlcourse.github.io/csc412/assignments/assignment_2/tennis_data.mat\")\n",
        "data = scipy.io.loadmat('tennis_data.mat')\n",
        "\n",
        "games = data['G'] - 1 # A list of pairs of player numbers, representing game outcomes. (shape (1081, 2))\n",
        "names = data['W']     # A list of names of players, corresponding to the player numbers. (shape (107, 1))\n",
        "\n",
        "print(games[0,:])\n",
        "print(names[0])"
      ]
    },
    {
      "cell_type": "markdown",
      "metadata": {
        "id": "dkYB8hS07fOW"
      },
      "source": [
        "\n",
        "\n",
        "**a) [0pt]** Assuming all game outcomes are i.i.d. conditioned on all players' skills, the function $\\texttt{log_games_likelihood}$ takes a batch of player skills $\\texttt{zs}$ and a collection of observed games $\\texttt{games}$ and gives the total log-likelihood for all those observations given all the skills.\n"
      ]
    },
    {
      "cell_type": "code",
      "execution_count": null,
      "metadata": {
        "id": "pkW93RBf7pru"
      },
      "outputs": [],
      "source": [
        "def log_games_likelihood(zs, games):\n",
        "  # matches is an array of size (num_games x 2)\n",
        "  # zs is an array of size (num_players, num_samples)\n",
        "\n",
        "  winning_player_ixs = games[:,0]\n",
        "  losing_player_ixs = games[:,1]\n",
        "\n",
        "  winning_player_skills = zs[winning_player_ixs] \n",
        "  losing_player_skills = zs[losing_player_ixs] \n",
        "  log_likelihoods = logp_a_beats_b(winning_player_skills, losing_player_skills) \n",
        "  return np.sum(log_likelihoods)"
      ]
    },
    {
      "cell_type": "code",
      "execution_count": null,
      "metadata": {
        "id": "uaPEulQoAndL"
      },
      "outputs": [],
      "source": [
        "def log_joint_probability(zs):\n",
        "    return log_joint_prior(zs) + log_games_likelihood(zs, games)"
      ]
    },
    {
      "cell_type": "markdown",
      "metadata": {
        "id": "aUWILTA18BRn"
      },
      "source": [
        "**b) [4pt]** Write a new objective function like the one from the previous question. \n",
        "\n",
        "Below, we initialize a variational distribution and fit it to the joint distribution with all the observed tennis games from the dataset. Report the final negative ELBO estimate after optimization."
      ]
    },
    {
      "cell_type": "code",
      "source": [
        "# Hyperparameters\n",
        "num_players = 107\n",
        "n_iters = 500\n",
        "stepsize = 0.0001\n",
        "num_samples_per_iter = 150\n",
        "key = PRNGKey(0)\n",
        "\n",
        "def objective(params, t):\n",
        "  rng = random.PRNGKey(t)\n",
        "  return -batch_elbo(log_joint_probability, rng, params, num_samples_per_iter)"
      ],
      "metadata": {
        "id": "qsCQUJCFd2Eb"
      },
      "execution_count": null,
      "outputs": []
    },
    {
      "cell_type": "markdown",
      "source": [
        "**c) [1pts]** Optimize, and report the final loss. "
      ],
      "metadata": {
        "id": "O3ep43C5d_CT"
      }
    },
    {
      "cell_type": "code",
      "execution_count": null,
      "metadata": {
        "id": "ock35XuW8EK8",
        "colab": {
          "base_uri": "https://localhost:8080/"
        },
        "outputId": "7ce6742b-ca44-408c-9700-32c573404f33"
      },
      "outputs": [
        {
          "output_type": "stream",
          "name": "stdout",
          "text": [
            "Optimizing variational parameters...\n"
          ]
        },
        {
          "output_type": "stream",
          "name": "stderr",
          "text": [
            " 10%|█         | 51/500 [00:11<01:12,  6.16it/s] "
          ]
        },
        {
          "output_type": "stream",
          "name": "stdout",
          "text": [
            "Iteration 0 lower bound 1186.4822998046875\n",
            "Iteration 25 lower bound 1172.82373046875\n",
            "Iteration 50 lower bound 1146.538330078125\n"
          ]
        },
        {
          "output_type": "stream",
          "name": "stderr",
          "text": [
            "\r 20%|██        | 101/500 [00:11<00:27, 14.52it/s]"
          ]
        },
        {
          "output_type": "stream",
          "name": "stdout",
          "text": [
            "Iteration 75 lower bound 1144.3675537109375\n",
            "Iteration 100 lower bound 1144.565673828125\n",
            "Iteration 125 lower bound 1144.3046875\n"
          ]
        },
        {
          "output_type": "stream",
          "name": "stderr",
          "text": [
            " 40%|████      | 201/500 [00:12<00:07, 40.75it/s]"
          ]
        },
        {
          "output_type": "stream",
          "name": "stdout",
          "text": [
            "Iteration 150 lower bound 1144.0537109375\n",
            "Iteration 175 lower bound 1144.3070068359375\n",
            "Iteration 200 lower bound 1144.236328125\n"
          ]
        },
        {
          "output_type": "stream",
          "name": "stderr",
          "text": [
            "\r 48%|████▊     | 242/500 [00:12<00:04, 56.95it/s]"
          ]
        },
        {
          "output_type": "stream",
          "name": "stdout",
          "text": [
            "Iteration 225 lower bound 1144.291748046875\n",
            "Iteration 250 lower bound 1143.934814453125\n"
          ]
        },
        {
          "output_type": "stream",
          "name": "stderr",
          "text": [
            " 65%|██████▌   | 326/500 [00:12<00:01, 96.37it/s]"
          ]
        },
        {
          "output_type": "stream",
          "name": "stdout",
          "text": [
            "Iteration 275 lower bound 1144.21728515625\n",
            "Iteration 300 lower bound 1144.195068359375\n",
            "Iteration 325 lower bound 1144.046875\n"
          ]
        },
        {
          "output_type": "stream",
          "name": "stderr",
          "text": [
            " 78%|███████▊  | 390/500 [00:12<00:00, 139.29it/s]"
          ]
        },
        {
          "output_type": "stream",
          "name": "stdout",
          "text": [
            "Iteration 350 lower bound 1144.3035888671875\n",
            "Iteration 375 lower bound 1144.3499755859375\n",
            "Iteration 400 lower bound 1144.8079833984375\n"
          ]
        },
        {
          "output_type": "stream",
          "name": "stderr",
          "text": [
            " 90%|█████████ | 451/500 [00:13<00:00, 131.61it/s]"
          ]
        },
        {
          "output_type": "stream",
          "name": "stdout",
          "text": [
            "Iteration 425 lower bound 1144.3662109375\n",
            "Iteration 450 lower bound 1143.9383544921875\n"
          ]
        },
        {
          "output_type": "stream",
          "name": "stderr",
          "text": [
            "100%|██████████| 500/500 [00:13<00:00, 37.29it/s] "
          ]
        },
        {
          "output_type": "stream",
          "name": "stdout",
          "text": [
            "Iteration 475 lower bound 1144.51611328125\n"
          ]
        },
        {
          "output_type": "stream",
          "name": "stderr",
          "text": [
            "\n"
          ]
        }
      ],
      "source": [
        "# Set up optimizer.\n",
        "init_mean = np.zeros(num_players)\n",
        "init_std  = np.zeros(num_players)\n",
        "init_params = (init_mean, init_std)\n",
        "opt_init, opt_update, get_params = optimizers.momentum(step_size=0.1, mass=0.9)\n",
        "opt_state = opt_init(init_params)\n",
        "\n",
        "@jit\n",
        "def update(i, opt_state):\n",
        "    params = get_params(opt_state)\n",
        "    gradient = grad(objective)(params, i)\n",
        "    return opt_update(i, gradient, opt_state)\n",
        "\n",
        "# Main loop.\n",
        "print(\"Optimizing variational parameters...\")\n",
        "for t in trange(0, n_iters):\n",
        "    opt_state = update(t, opt_state)\n",
        "    params = get_params(opt_state)\n",
        "    callback(params, t)\n"
      ]
    },
    {
      "cell_type": "markdown",
      "metadata": {
        "id": "y6YluZ2B8Qmr"
      },
      "source": [
        "**d) [1pt]** Plot the approximate mean and variance of all players, sorted by skill."
      ]
    },
    {
      "cell_type": "code",
      "execution_count": null,
      "metadata": {
        "id": "sEZtYBeH8TOO"
      },
      "outputs": [],
      "source": [
        "mean_skills, logstd_skills = params\n",
        "# Hint: You don't need to do simple Monte Carlo here.\n",
        "order = np.argsort(mean_skills)\n",
        "\n",
        "plt.xlabel(\"Player Rank\")\n",
        "plt.ylabel(\"Player Skill\")\n",
        "plt.errorbar(range(107), mean_skills[order], logstd_skills[order])"
      ]
    },
    {
      "cell_type": "markdown",
      "metadata": {
        "id": "EjWom7_Z8VCY"
      },
      "source": [
        "**e) [2pts]** List the names of the 10 players with the highest mean skill under the variational model.\n"
      ]
    },
    {
      "cell_type": "code",
      "execution_count": null,
      "metadata": {
        "id": "4LCPM5Bp8YiK"
      },
      "outputs": [],
      "source": [
        "for i in range(1,11):\n",
        "    print(names[order[107-i]][0][0])"
      ]
    },
    {
      "cell_type": "markdown",
      "metadata": {
        "id": "sEj6LkYA8ncH"
      },
      "source": [
        "**f) [1pt]** Plot the joint posterior over the skills of Roger Federer and Rafael Nadal."
      ]
    },
    {
      "cell_type": "code",
      "execution_count": null,
      "metadata": {
        "id": "U6zI2sCB8qFO"
      },
      "outputs": [],
      "source": [
        "nadal_ix = 0\n",
        "federer_ix = 4\n",
        "print(names[nadal_ix])\n",
        "print(names[federer_ix])\n",
        "\n",
        "fig = plt.figure(figsize=(8,8), facecolor='white')\n",
        "\n",
        "# Label each with \"<player> Skill\"\n",
        "plt.xlabel(\"Roger Federer Skill\") \n",
        "plt.ylabel(\"Rafael Nadal Skill\") \n",
        "\n",
        "plt.plot([3, -3], [3, -3], 'b--') # Line of equal skill\n",
        "\n",
        "rngs = random.split(random.PRNGKey(t), 100)\n",
        "samples = vmap(diag_gaussian_sample, in_axes=(0, None, None))(rngs, *params)\n",
        "\n",
        "# Hint:  Use plt.scatter()\n",
        "plt.scatter(samples[:, nadal_ix], samples[:, federer_ix])\n"
      ]
    },
    {
      "cell_type": "markdown",
      "metadata": {
        "id": "rUXcsAYdDnor"
      },
      "source": [
        "**g) [8pts]** Derive the exact probability under a factorized Gaussian over two players’ skills that one has higher skill than the other, as a function of the two means and variances over their skills. Express your answer in terms of the cumulative distribution function of a one-dimensional Gaussian random variable.\n",
        "\n",
        "- Hint 1: Use a linear change of variables $y_A, y_B = z_A − z_B , z_B$. What does the line of equal skill look like after this transformation?\n",
        "- Hint 2: If $X \\sim \\mathcal N (\\mu, \\Sigma)$, then $AX \\sim \\mathcal N (A\\mu, A\\Sigma A^T)$ where $A$ is a linear transformation.\n",
        "- Hint 3: Marginalization in Gaussians is easy: if $X \\sim \\mathcal N (\\mu, \\Sigma)$, then the $i$th element of $X$ has a\n",
        "marginal distribution $X_i \\sim \\mathcal N (\\mu_i , \\Sigma_{ii})$."
      ]
    },
    {
      "cell_type": "markdown",
      "source": [
        ""
      ],
      "metadata": {
        "id": "nEbwjMB27RUQ"
      }
    },
    {
      "cell_type": "markdown",
      "metadata": {
        "id": "OxazFdqcFhF_"
      },
      "source": [
        "Your answer here."
      ]
    },
    {
      "cell_type": "markdown",
      "metadata": {
        "id": "GO3k7rfI8sWg"
      },
      "source": [
        "**h) [2pts]** Compute the probability under your approximate posterior that Roger Federer has higher skill than Rafael Nadal. Compute this quantity exactly using the formula you just derived above, and also estimate it using simple Monte Carlo with 10000 examples.\n",
        "\n",
        "Hint:  You might want to use `jax.scipy.stats.norm.cdf` for the exact formula."
      ]
    },
    {
      "cell_type": "code",
      "execution_count": null,
      "metadata": {
        "id": "oqXgDi-T-W7o"
      },
      "outputs": [],
      "source": [
        "# TODO"
      ]
    },
    {
      "cell_type": "markdown",
      "metadata": {
        "id": "olpPTnm3-YdN"
      },
      "source": [
        "**i) [2pts]** Compute the probability that Roger Federer is better than the player with the lowest mean skill. Compute this quantity exactly, and then estimate it using simple Monte Carlo with 10000 examples.\n"
      ]
    },
    {
      "cell_type": "code",
      "source": [
        "# TODO"
      ],
      "metadata": {
        "id": "PNLfQCDdbZ7d"
      },
      "execution_count": null,
      "outputs": []
    },
    {
      "cell_type": "markdown",
      "source": [
        "**j) [2 pts]** Imagine that we knew ahead of time that we were examining the skills of top tennis players, and so changed our prior on all players to Normal(10, 1) and re-ran our approximate inference from scratch. Would that change the answer of either of the previous 2 questions, in expectation?"
      ],
      "metadata": {
        "id": "kjslZo7WUH2-"
      }
    },
    {
      "cell_type": "markdown",
      "source": [
        "Your answer here.\n",
        "This would not change the answer of either the previous 2 questions, in expectation."
      ],
      "metadata": {
        "id": "W37pO-PDNjKc"
      }
    },
    {
      "cell_type": "markdown",
      "source": [
        "**k) [2 pts]** Based on all the plots and results in this assignment and HW2, which approximate inference method do you suspect is producing a better overall approximation to the true posterior over all skills conditioned on all games?  Give a short explanation."
      ],
      "metadata": {
        "id": "cNJ5WuyQKPPM"
      }
    },
    {
      "cell_type": "markdown",
      "source": [
        "Your answer here.\n",
        "MCMC has the better overall approximation to the true posterior over all skills conditioned on all games."
      ],
      "metadata": {
        "id": "mtmXbA3OKSoM"
      }
    },
    {
      "cell_type": "markdown",
      "source": [
        "# 2. [50pts] Expectation-Maximization (EM) algorithm"
      ],
      "metadata": {
        "id": "Ru-EwGWu5T4X"
      }
    },
    {
      "cell_type": "code",
      "source": [
        "%matplotlib inline\n",
        "import scipy\n",
        "import numpy as np\n",
        "import itertools\n",
        "import matplotlib.pyplot as plt"
      ],
      "metadata": {
        "id": "ttc_nnUN5Wnv"
      },
      "execution_count": null,
      "outputs": []
    },
    {
      "cell_type": "markdown",
      "source": [
        "## 2.1 [7pts] Generating the Data\n",
        "\n",
        "**a) [5pts]** First, we will generate some data for this problem. Set the number of points $N=400$, their dimension $D=2$, and the number of clusters $K=2$, and generate data from the distribution $p(x|z=k) = \\mathcal{N}(\\mu_k, \\Sigma_k)$.\n",
        "  Sample $200$ data points for $k=1$ and 200 for $k=2$, with\n",
        "\n",
        "  $$\n",
        "    \\mu_1=\n",
        "    \\begin{bmatrix}\n",
        "      0.1 \\\\\n",
        "      0.1\n",
        "    \\end{bmatrix}\n",
        "    \\ \\text{,}\\\n",
        "    \\mu_2=\n",
        "    \\begin{bmatrix}\n",
        "      6.0 \\\\\n",
        "      0.1\n",
        "    \\end{bmatrix}\n",
        "    \\ \\text{ and }\\\n",
        "    \\Sigma_1=\\Sigma_2=\n",
        "    \\begin{bmatrix}\n",
        "      10       & 7 \\\\\n",
        "      7 & 10\n",
        "    \\end{bmatrix}\n",
        "  $$\n",
        "  Here, $N=400$. If you generate the data, you already know which sample comes from which class. Complete the following statements and run to generate.\n",
        "\n",
        "  Hint: you can use `np.random.multivariate_normal`."
      ],
      "metadata": {
        "id": "g-aZi8IN5Via"
      }
    },
    {
      "cell_type": "code",
      "source": [
        "num_samples = 400\n",
        "cov = np.array([[10, 7], [7, 10]])\n",
        "mean_1 = np.array([0.1, 0.1])\n",
        "mean_2 = np.array([6.0, 0.1])\n",
        "\n",
        "x_class1 = np.random.multivariate_normal(mean_1, cov, num_samples//2)\n",
        "x_class2 = np.random.multivariate_normal(mean_2, cov, num_samples//2)\n",
        "xy_class1 = np.append(x_class1, np.ones((num_samples//2, 1)), axis=1)\n",
        "xy_class2 = np.append(x_class2, np.ones((num_samples//2, 1))*2, axis=1)\n",
        "\n",
        "data_full = np.append(xy_class1, xy_class2, axis=0)\n",
        "np.random.shuffle(data_full)\n",
        "data = data_full[:, :2]\n",
        "labels = data_full[:, 2]"
      ],
      "metadata": {
        "id": "E65KHOjz5axT"
      },
      "execution_count": null,
      "outputs": []
    },
    {
      "cell_type": "markdown",
      "source": [
        "**b) [2pts]** Make a scatter plot of the data points showing the true cluster assignment of each point using different color codes and shape (x for first class and circles for second class):"
      ],
      "metadata": {
        "id": "MH5WNKYh5kwW"
      }
    },
    {
      "cell_type": "code",
      "source": [
        "fig = plt.figure(figsize=(8,8), facecolor='white')\n",
        "# first class, x shape\n",
        "plt.scatter(x_class1[:, 0], x_class1[:, 1], color = 'b', marker = \"x\")\n",
        "# second class, circle shape\n",
        "plt.scatter(x_class2[:, 0], x_class2[:, 1], color = 'r', marker = \"o\")       "
      ],
      "metadata": {
        "id": "0PZMA--g5mbe",
        "colab": {
          "base_uri": "https://localhost:8080/",
          "height": 500
        },
        "outputId": "3b541c52-cb33-4b9d-cf58-d9cbbc2ca616"
      },
      "execution_count": null,
      "outputs": [
        {
          "output_type": "execute_result",
          "data": {
            "text/plain": [
              "<matplotlib.collections.PathCollection at 0x7fa0ce8e88d0>"
            ]
          },
          "metadata": {},
          "execution_count": 10
        },
        {
          "output_type": "display_data",
          "data": {
            "text/plain": [
              "<Figure size 576x576 with 1 Axes>"
            ],
            "image/png": "[encoded data removed]"
          },
          "metadata": {}
        }
      ]
    },
    {
      "cell_type": "markdown",
      "source": [
        "## 2.2 [14pts] Implement and Run K-Means algorithm\n",
        "\n",
        "Now, we assume that the true class labels are not known. Implement the k-means algorithm for this problem.\n",
        "  Write two functions: `km_assignment_step`, and `km_refitting_step` as given in the lecture (Here, `km_` means k-means).\n",
        "  Identify the correct arguments, and the order to run them. Initialize the algorithm with\n",
        "  $$\n",
        "    \\hat\\mu_1=\n",
        "    \\begin{bmatrix}\n",
        "      0.0 \\\\\n",
        "      0.0\n",
        "    \\end{bmatrix}\n",
        "    \\ \\text{,}\\\n",
        "    \\hat\\mu_2=\n",
        "    \\begin{bmatrix}\n",
        "      1.0 \\\\\n",
        "      1.0\n",
        "    \\end{bmatrix}\n",
        "  $$\n",
        "  and run it until convergence.\n",
        "  Show the resulting cluster assignments on a scatter plot either using different color codes or shape or both.\n",
        "  Also plot the cost (distortion in lecture slides) vs. the number of iterations. Report your misclassification error. "
      ],
      "metadata": {
        "id": "uk3xc1iS5r9I"
      }
    },
    {
      "cell_type": "markdown",
      "source": [
        "**a) [2pts]** Complete the `cost` function."
      ],
      "metadata": {
        "id": "U2yxjnx36Fdk"
      }
    },
    {
      "cell_type": "code",
      "source": [
        "def cost(data, R, Mu):\n",
        "    N, D = data.shape\n",
        "    K = Mu.shape[1]\n",
        "    data1 = np.repeat(data[:, :, np.newaxis], K, axis=2)\n",
        "    Mu1 = np.repeat(Mu[np.newaxis, :, :], N, axis=0)\n",
        "    R1 = np.repeat(R[:, np.newaxis, :], D, axis=1)\n",
        "\n",
        "    J = np.sum(np.sum(R1*(Mu1 - data1)*(Mu1 - data1), axis=2), axis=0)\n",
        "    \n",
        "    return J"
      ],
      "metadata": {
        "id": "4ir5sGuL5nwb"
      },
      "execution_count": null,
      "outputs": []
    },
    {
      "cell_type": "markdown",
      "source": [
        "**b) [4pts]** K-Means assignment step."
      ],
      "metadata": {
        "id": "iHeJWG4W6NbS"
      }
    },
    {
      "cell_type": "code",
      "source": [
        "def km_assignment_step(data, Mu):\n",
        "    \"\"\" Compute K-Means assignment step\n",
        "    \n",
        "    Args:\n",
        "        data: a NxD matrix for the data points\n",
        "        Mu: a DxK matrix for the cluster means locations\n",
        "    \n",
        "    Returns:\n",
        "        R_new: a NxK matrix of responsibilities\n",
        "    \"\"\"\n",
        "    \n",
        "    N, D = data.shape # TODO: Number of datapoints and dimension of datapoint\n",
        "    K = Mu.shape[1] # number of clusters\n",
        "    r = ... # TODO\n",
        "    # TODO assign all r[:, k]\n",
        "    \n",
        "    data1 = np.repeat(data[:, :, np.newaxis], K, axis=2)\n",
        "    Mu1 = np.repeat(Mu[np.newaxis, :, :], N, axis=0)\n",
        "    \n",
        "    arg_min = np.argmin((data1 - Mu1)*(data1 - Mu1), axis=2) # TODO: argmax/argmin along dimension 1\n",
        "    R_new = np.zeros((N, K)) # TODO: Set to zeros/ones with shape (N, K)\n",
        "    R_new[:, arg_min] = 1 # TODO Assign to 1\n",
        "    return R_new"
      ],
      "metadata": {
        "id": "A4MF3nyy6Ms8"
      },
      "execution_count": null,
      "outputs": []
    },
    {
      "cell_type": "markdown",
      "source": [
        "**c) [2pts]** K-Means refitting step."
      ],
      "metadata": {
        "id": "v3DnutNm6n33"
      }
    },
    {
      "cell_type": "code",
      "source": [
        "# TODO: K-means Refitting Step\n",
        "def km_refitting_step(data, R, Mu):\n",
        "    \"\"\" Compute K-Means refitting step.\n",
        "    \n",
        "    Args:\n",
        "        data: a NxD matrix for the data points\n",
        "        R: a NxK matrix of responsibilities\n",
        "        Mu: a DxK matrix for the cluster means locations\n",
        "    \n",
        "    Returns:\n",
        "        Mu_new: a DxK matrix for the new cluster means locations\n",
        "    \"\"\"\n",
        "    N, D = data.shape # TODO: number of datapoints and dimension of datapoint\n",
        "    K = Mu.shape[1] # TODO: number of clusters\n",
        "    Mu_new = data.T @ R / np.sum(R, axis=0)\n",
        "    return Mu_new"
      ],
      "metadata": {
        "id": "99c-OaVs6tlH"
      },
      "execution_count": null,
      "outputs": []
    },
    {
      "cell_type": "markdown",
      "source": [
        "**d) [4pts]** Run this cell to call the K-Means algorithm."
      ],
      "metadata": {
        "id": "dXJinSwV6xsj"
      }
    },
    {
      "cell_type": "code",
      "source": [
        "N, D = 400, 2\n",
        "K = 2\n",
        "max_iter = 100\n",
        "class_init = np.append(np.ones(200), np.ones(200)*2, axis=0)\n",
        "R = np.zeros(400)\n",
        "\n",
        "Mu = np.zeros([D, K])\n",
        "Mu[:, 1] = 1.\n",
        "R.T.dot(data), np.sum(R, axis=0)\n",
        "\n",
        "for it in range(max_iter):\n",
        "    R = km_assignment_step(data, Mu)\n",
        "    Mu = km_refitting_step(data, R, Mu)\n",
        "    print(it, cost(data, R, Mu))\n",
        "\n",
        "class_1 = data[np.argwhere(R[:, 0] == 1)]\n",
        "class_2 = data[np.argwhere(R[:, 1] == 1)]"
      ],
      "metadata": {
        "id": "8z_xw_Gu6xJj"
      },
      "execution_count": null,
      "outputs": []
    },
    {
      "cell_type": "markdown",
      "source": [
        "**e) [2pts]** Make a scatterplot for the data points showing the K-Means cluster assignments of each point.\n"
      ],
      "metadata": {
        "id": "MgB7VKUp_gqO"
      }
    },
    {
      "cell_type": "code",
      "source": [
        "fig = plt.figure(figsize=(8,8), facecolor='white')\n",
        "# first class, x shape\n",
        "plt.scatter(class_1[:, 0], class_1[:, 1], color = 'b', marker = \"x\")\n",
        "# second class, circle shape\n",
        "plt.scatter(class_2[:, 0], class_2[:, 1], color = 'r', marker = \"o\")   "
      ],
      "metadata": {
        "id": "SGyd4sKP_jY2"
      },
      "execution_count": null,
      "outputs": []
    },
    {
      "cell_type": "markdown",
      "source": [
        "## 2.3 [21pts] Implement EM algorithm for Gaussian mixtures\n",
        "\n",
        "Next, implement the EM algorithm for Gaussian mixtures. Write three functions: `log_likelihood`, `gm_e_step`, and `gm_m_step` as given in the lecture.\n",
        "  - Identify the correct arguments, and the order to run them.\n",
        "  - Initialize the algorithm with the same initialization as in Q2.1 for the means, and with $\\hat\\Sigma_1=\\hat\\Sigma_2=I$, and $\\hat\\pi_1=\\hat\\pi_2$ for the covariances.\n",
        "    \n",
        "Run the algorithm until convergence and show the resulting cluster assignments on a scatter plot either using different color codes or shape or both. Also plot the log-likelihood vs. the number of iterations. Report your misclassification error."
      ],
      "metadata": {
        "id": "aHONjfYq7t-d"
      }
    },
    {
      "cell_type": "code",
      "source": [
        "def normal_density(x, mu, Sigma):\n",
        "    return np.exp(-.5 * np.dot(x - mu, np.linalg.solve(Sigma, x - mu))) \\\n",
        "        / np.sqrt(np.linalg.det(2 * np.pi * Sigma))"
      ],
      "metadata": {
        "id": "Ciq6jLpQ8BWm"
      },
      "execution_count": null,
      "outputs": []
    },
    {
      "cell_type": "markdown",
      "source": [
        "**a) [5pts]** Log-Likelihood."
      ],
      "metadata": {
        "id": "mcVJXu8-8C8K"
      }
    },
    {
      "cell_type": "code",
      "source": [
        "def log_likelihood(data, Mu, Sigma, Pi):\n",
        "    \"\"\" Compute log likelihood on the data given the Gaussian Mixture Parameters.\n",
        "    \n",
        "    Args:\n",
        "        data: a NxD matrix for the data points\n",
        "        Mu: a DxK matrix for the means of the K Gaussian Mixtures\n",
        "        Sigma: a list of size K with each element being DxD covariance matrix\n",
        "        Pi: a vector of size K for the mixing coefficients\n",
        "    \n",
        "    Returns:\n",
        "        L: a scalar denoting the log likelihood of the data given the Gaussian Mixture\n",
        "    \"\"\"\n",
        "    N, D = data.shape  # TODO Number of datapoints and dimension of datapoint\n",
        "    K = Mu.shape[1] # TODO number of mixtures\n",
        "    L, T = 0., 0.\n",
        "    # TODO: given n, k, compute the likelihood from the k-th Gaussian weighted by the mixing coefficients\n",
        "    L = np.log(Pi.T @ np.random.normal(Mu, Sigma))\n",
        "    return L"
      ],
      "metadata": {
        "id": "iZGUOMuZ8KAj"
      },
      "execution_count": null,
      "outputs": []
    },
    {
      "cell_type": "markdown",
      "source": [
        "**b) [5pts]** Gaussian Mixture Expectation Step."
      ],
      "metadata": {
        "id": "E6Km8Q-P8Jr-"
      }
    },
    {
      "cell_type": "code",
      "source": [
        "def gm_e_step(data, Mu, Sigma, Pi):\n",
        "    \"\"\" Gaussian Mixture Expectation Step.\n",
        "\n",
        "    Args:\n",
        "        data: a NxD matrix for the data points\n",
        "        Mu: a DxK matrix for the means of the K Gaussian Mixtures\n",
        "        Sigma: a list of size K with each element being DxD covariance matrix\n",
        "        Pi: a vector of size K for the mixing coefficients\n",
        "    \n",
        "    Returns:\n",
        "        Gamma: a NxK matrix of responsibilities \n",
        "    \"\"\"\n",
        "    N, D = data.shape # TODO Number of datapoints and dimension of datapoint\n",
        "    K = Mu.shape[1] # TODO number of mixtures\n",
        "    Gamma = np.zeros((N, K)) # TODO zeros of shape (N,K), matrix of responsibilities\n",
        "\n",
        "    # TODO: given n, k, normalize by sum across second dimension (mixtures)\n",
        "    Gamma = (Pi.T @ np.random.normal(Mu, Sigma))/log_likelihood(data, Mu, Sigma, Pi)\n",
        "\n",
        "    return Gamma"
      ],
      "metadata": {
        "id": "EOy1VrrS8bPH"
      },
      "execution_count": null,
      "outputs": []
    },
    {
      "cell_type": "markdown",
      "source": [
        "**c) [5pts]** Gaussian Mixture Maximization Step."
      ],
      "metadata": {
        "id": "bHuKzKLD8yjK"
      }
    },
    {
      "cell_type": "code",
      "source": [
        "def gm_m_step(data, Gamma):\n",
        "    \"\"\" Gaussian Mixture Maximization Step.\n",
        "\n",
        "    Args:\n",
        "        data: a NxD matrix for the data points\n",
        "        Gamma: a NxK matrix of responsibilities \n",
        "    \n",
        "    Returns:\n",
        "        Mu: a DxK matrix for the means of the K Gaussian Mixtures\n",
        "        Sigma: a list of size K with each element being DxD covariance matrix\n",
        "        Pi: a vector of size K for the mixing coefficients\n",
        "    \"\"\"\n",
        "    N, D = data.shape # TODO Number of datapoints and dimension of datapoint\n",
        "    K = Gamma.shape[1]  # TODO number of mixtures\n",
        "    Nk = np.sum(Gamma, axis=0) # TODO Sum along first axis \n",
        "    Mu = data.T @ Gamma / Nk # TODO\n",
        "    Sigma = 1/Nk * Gamma @ (data - Mu) @ (data - Mu).T# TODO\n",
        "\n",
        "    # TODO: fill in Sigma[k] for each k\n",
        "\n",
        "    Pi = Nk/N # TODO\n",
        "    return Mu, Sigma, Pi"
      ],
      "metadata": {
        "id": "Ly4KBK5S8zX2"
      },
      "execution_count": null,
      "outputs": []
    },
    {
      "cell_type": "markdown",
      "source": [
        "**d) [4pts]** Run this cell to call the Gaussian Mixture EM algorithm."
      ],
      "metadata": {
        "id": "Y2uTCffj9LX6"
      }
    },
    {
      "cell_type": "code",
      "source": [
        "N, D = 400, 2\n",
        "K = 2\n",
        "Mu = np.zeros([D, K])\n",
        "Mu[:, 1] = 1.\n",
        "Sigma = [np.eye(2), np.eye(2)]\n",
        "Pi = np.ones(K) / K\n",
        "Gamma = np.zeros([N, K]) # Gamma is the matrix of responsibilities \n",
        "\n",
        "max_iter  = 200\n",
        "\n",
        "for it in range(max_iter):\n",
        "    Gamma = gm_e_step(data, Mu, Sigma, Pi)\n",
        "    Mu, Sigma, Pi = gm_m_step(data, Gamma)\n",
        "\n",
        "class_1 = np.where(Gamma[:, 0] == 1)\n",
        "class_2 = np.where(Gamma[:, 1] == 1)"
      ],
      "metadata": {
        "id": "crvBkgPgNZA6"
      },
      "execution_count": null,
      "outputs": []
    },
    {
      "cell_type": "markdown",
      "source": [
        "**e) [2pts]** Make a scatterplot for the data points showing the Gaussian Mixture cluster assignments of each point"
      ],
      "metadata": {
        "id": "DDGgFxSt9sp5"
      }
    },
    {
      "cell_type": "code",
      "source": [
        "fig = plt.figure(figsize=(8,8), facecolor='white')\n",
        "# first class, x shape\n",
        "plt.scatter(class_1[:, 0], class_1[:, 1], color = 'b', marker = \"x\")\n",
        "# second class, circle shape\n",
        "plt.scatter(class_2[:, 0], class_2[:, 1], color = 'r', marker = \"o\") "
      ],
      "metadata": {
        "id": "k_AU2yu_9w49"
      },
      "execution_count": null,
      "outputs": []
    },
    {
      "cell_type": "markdown",
      "source": [
        "## 2.4 [8pts] Comment on findings + additional experiments\n",
        "\n",
        "Comment on the results:\n",
        "\n",
        "* Compare the performance of k-Means and EM based on the resulting cluster assignments. [2pts]\n",
        "* Compare the performance of k-Means and EM based on their convergence rate. What is the bottleneck for which method? [2pts]\n",
        "* Experiment with 5 different data realizations (generate new data), run your algorithms, and summarize your findings. Does the algorithm performance depend on different realizations of data? [3pts]\n",
        "* Comment on what might happen as you increase the number $K$ of clusters. [1pts]\n",
        " \n"
      ],
      "metadata": {
        "id": "QFy3oFR57Nqv"
      }
    },
    {
      "cell_type": "markdown",
      "source": [
        "Your answer here."
      ],
      "metadata": {
        "id": "wSsvAFJq7WSn"
      }
    },
    {
      "cell_type": "markdown",
      "source": [
        "EM algorithm performs better than k-means on the clustering assignments.\n",
        "\n",
        "EM algorithm has a slower convergence rate than k-Means. The bottleneck of EM algorithm is the M-step that reestimate the model parameters, especially the variance is the bottleneck."
      ],
      "metadata": {
        "id": "ML6WUmGJ4_Mg"
      }
    },
    {
      "cell_type": "code",
      "source": [
        "# your code here, if you have any"
      ],
      "metadata": {
        "id": "N3qKP6ya7RJs"
      },
      "execution_count": null,
      "outputs": []
    },
    {
      "cell_type": "markdown",
      "source": [
        "If the number K of clusters increases, it is likely to classify data within same group to different groups."
      ],
      "metadata": {
        "id": "OJ37DN6b51Jv"
      }
    }
  ]
}